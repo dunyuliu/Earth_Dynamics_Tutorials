{
 "cells": [
  {
   "cell_type": "markdown",
   "id": "0800114f",
   "metadata": {},
   "source": [
    "This tutorial is a quickstart guide to help you learn some basics about ordinary differential equations (ODE) and numerical algorithms to solve them. <br>\n",
    "\n",
    "At the end of the toturial, you will have developed your own functions for Euler, Midpoint, and 4th-order Runge-Kutta methods that will be used in the course and your future research. <br>\n",
    "\n",
    "For more details, please refer to Drs. Thorsten W. Becker and Boris J.P. Kaus' textbook drafts - Numerical Geodynamics: Finite Difference and Finite Element solutions to solid Earth dynamics problems, Part II via this link https://www-udc.ig.utexas.edu/external/becker/Geodynamics557.pdf."
   ]
  },
  {
   "cell_type": "markdown",
   "id": "45b66996",
   "metadata": {},
   "source": [
    "# The definition and example of ODEs\n",
    "ODE is an equation that involves the derivative of the function we want to solve for, and that has only one independent variable (otherwise it's a partial differential equation, i.e., PDE).<br>\n",
    "\n",
    "For exmaple, $dy/dx = f(x)$ can be solved by integration $y=\\int f(x)dx + C$.<br>\n",
    "\n",
    "where C can be determined by additional information, such as a boundary condition on $y$. <br>"
   ]
  },
  {
   "cell_type": "markdown",
   "id": "bd11effa",
   "metadata": {},
   "source": [
    "# The order of an ODE\n",
    "The order of an ODE is determined by the largest number of derivatives invovled, e.g. <br>\n",
    "$d^2y/dx^2 + q(x)dy/dx = r(x)$ is \"second order\"."
   ]
  },
  {
   "cell_type": "markdown",
   "id": "96dcaf6d",
   "metadata": {},
   "source": [
    "# Reduce ODEs to sets of first order equations\n",
    "However, we can always reduce ODEs to sets of first order equations. For example, the above equation can be defined as <br>\n",
    "$dy/dx = z(x)$ <br>\n",
    "$dz/dx = r(x) - q(x)z(x)$ <br>\n",
    "\n",
    "In general, we can write     $dy_i(x)/dx  = f_i(x,y,...,y_N)$ <br>\n",
    "for a system of $N$ coupled ODEs, all dependent on the independent variable x, which is typically time, $t$. <br>\n",
    "\n",
    "Or in vector form, $\\mathbf{y}/dx = \\mathbf{f}(x,\\mathbf{y})$. <br>\n",
    "\n",
    "The actual solutions of ODEs will depend on the types of boundary conditions on $\\mathbf{y}$ and the initial conditions."
   ]
  },
  {
   "cell_type": "markdown",
   "id": "82d60072",
   "metadata": {},
   "source": [
    "# Initial Value Problems\n",
    "In initial value problems, $\\mathbf{y}$ is known for some $x = x_0$, and the system evolves from there to $x_f$ some finite time later.\n",
    "\n",
    "Over the course, you will encounter physical systems governed by different sets of ODEs such as the harmonic oscillator, the double pendulum, two state-variable rate- and state- friction, Lorenz equations as a simplified description of thermal convection in the atmosphere, etc.  \n",
    "\n",
    "Recall that $dy/dx = f(x)$ can be solved by integration $y=\\int f(x)dx + C$.<br>\n",
    "\n",
    "If we replace $x$ with $t$ and solve the system from $t=t_0$ to $t=t_f$ with initial conditions $y_0=y(t=t_0)$, we get <br>\n",
    "$y(t)=y_0 + \\int_{t_0}^{t_f} f(t,y(t)) dt$.\n",
    "\n",
    "We can break down the integral into $step$ $sizes$ $h$ from $t_i$ to $t_i+h$ with $n=(t_f-t_0)/h$ partial integrals such that we only need to solve <br>\n",
    "$I = \\int_{t_i}^{t_i+h} f(t,y(t)) dt$ <br>\n",
    "as cheaply as possible numerically.\n",
    "\n",
    "Now we will introduce you three numerical approximations to the partial integral $I$."
   ]
  },
  {
   "cell_type": "markdown",
   "id": "8c920be9",
   "metadata": {},
   "source": [
    "# The Euler method\n",
    "The simpliest numerical approximation to $I$ is $I = f(t_i, y(t_i)) \\cdot h$ such that $y(t_i+h) = y(t_i) + h \\cdot f(t_i,y(t_i))$. <br> \n",
    "\n",
    "Note: the Euler method is generally not a good idea and if $y$ has some curvature, the Euler scheme will lead to large errors quickly! <br>\n",
    "\n",
    "If you do Taylor expansion to $y(t)$, you will get\n",
    "$y(t) \\approx y(t_0) + (t-t_0)dy(t_0)/dt + (t-t_0)^2/2! d^2y(t_0)/dt^2 + (t-t_0)^2/3! y''' + ...$. <br>\n",
    "\n",
    "For our problem, we get <br>\n",
    "$y(t_i+h) \\approx y(t_i) + h \\cdot f(y(t_0), t_0) + h^2/2 d^2y/dt^2 + ...$ <br>\n",
    "\n",
    "The error of the Euler scheme goes as $O$(\"order of\")($h^2$), and the scheme is therefore, by definition, only accurate to $first$ $order$. It means that tiny time steps would have to be taken for a good solution. "
   ]
  },
  {
   "cell_type": "code",
   "execution_count": null,
   "id": "25452dc2",
   "metadata": {},
   "outputs": [],
   "source": [
    "# Exercise - Could you fill in the missing code part to finish the Euler method function?\n",
    "# We assume there is only one equation and f(x) = x*x.\n",
    "\n",
    "# Define the function f(x), which takes in vector x at the current time and returns its square.\n",
    "def fx(t, x):\n",
    "    return x[0]*x[0]\n",
    "\n",
    "# Define the Euler function.\n",
    "def euler(t, x, f, neq, h):\n",
    "    # The function will take in x at the current time and update and return the x one step size h further according to function fx.\n",
    "    # neq: number of equations in the reduced order ODE system. In this case, neq == 1.\n",
    "    for i in range(neq):            # Loop over all the equations in the system.\n",
    "        # NOTE: in python, index starts from 0. Therefore, for neq==1, i will start from 0. \n",
    "        # In this case, there is only i==0 in the loop. \n",
    "        # If you want to check value in i, try print it out and uncomment the following line:\n",
    "        # print(i)\n",
    "        x[i] = ?? + ?? * f[i](t,x) \n",
    "        # Please fill out the above missing parts ?? to make this function work!\n",
    "    return x"
   ]
  },
  {
   "cell_type": "code",
   "execution_count": null,
   "id": "5f6cb5e1",
   "metadata": {},
   "outputs": [],
   "source": [
    "# This exercise will update x from x=3 at t=2 and return x at t=2+h. \n",
    "#  acoording to the function form f(x)=x*x based on the Euler method.\n",
    "neq = 1\n",
    "h   = 0.01\n",
    "t   = 2.     # Note that this is a number\n",
    "x   = [3.]   # Note that this is a list. For what is a List in python, here is some description https://www.w3schools.com/python/python_lists.asp.\n",
    "f   = [fx]   # If your system contains mulitple equations, we put them all in list f. \n",
    "res = euler(t, x, f, neq, h)\n",
    "\n",
    "print(res)"
   ]
  },
  {
   "cell_type": "markdown",
   "id": "003c4ffd",
   "metadata": {},
   "source": [
    "# The Midpoint method\n",
    "There are a few improments to the Euler scheme such as the Midpoint method. <br>\n",
    "\n",
    "It first evaluates the derivative of $y$ w.r.t to $t$ at half the Euler step and then advances y by the new slope.\n",
    "\n",
    "$y(t_i+h) = y(t_i) + h \\cdot f(t_i + h/2, y(t_i) + f(t_i,y_i)h/2)$. <br>\n",
    "\n",
    "Letting $y_{i+1} = y(t_i +h)$ and $y_i = y(t_i)$, we can follow the numerical implemtation recipe <br>\n",
    "$k_1 = h \\cdot f(t_i, y_i)$ <br>\n",
    "$k_2 = h \\cdot f(t_i+h/2, y_i+k_1/2)$ <br>\n",
    "$y_{i+1} = y_i + k_2 + O(h^3)$ <br>\n",
    "\n",
    "You can see the method is $second$ $order$ $accurate$. Note that higher accuracy has come at a cost, $f$ now needs to be evaluated twice and once at a $y$ value different from $y_i$, and there are overall more operations per time step. However, since the error is now $O(h^3)$, we can take larger time steps."
   ]
  },
  {
   "cell_type": "code",
   "execution_count": null,
   "id": "1d042d73",
   "metadata": {},
   "outputs": [],
   "source": [
    "# Exercise - Could you fill in the missing code part to finish the Midpoint method function?\n",
    "\n",
    "# Let's reuse the function fx defined above.\n",
    "\n",
    "# Define the Midpoint function.\n",
    "def midpoint(t, x, f, neq, h):\n",
    "    # The function will take in x at the current time and update and return the x one step size h further according to function fx.\n",
    "\n",
    "    k  = []  # create list k, which is k1/2 in the recipe.\n",
    "    k2 = []  # create list k2.\n",
    "    for i in range(neq):            # Loop over all the equations in the system.\n",
    "        k.append(f[i](t,x)*h/2)     # Function Append will add elements to the end of the list.\n",
    "        \n",
    "        # Why not follow the recipe and use k.append(f[i](t,x)*h) and let /2 be done in the following line to calcualte k2?\n",
    "        # Try it out and you will see errors. List/number is not supported.\n",
    "\n",
    "    for i in range(neq):\n",
    "        k2.append(f[i](??, ??) * ??)\n",
    "        x[i] = x[i] + ??\n",
    "        # Please fill out the above missing parts ?? to make this function work!\n",
    "    return x"
   ]
  },
  {
   "cell_type": "code",
   "execution_count": null,
   "id": "035f5446",
   "metadata": {},
   "outputs": [],
   "source": [
    "# This exercise will update x from x=3 at t=2 and return x at t=2+h. \n",
    "#  acoording to the function form f(x)=x*x based on the Midpoint method.\n",
    "neq = 1\n",
    "h   = 0.01\n",
    "t   = 2.    \n",
    "x   = [3.]\n",
    "f   = [fx]\n",
    "res = midpoint(t, x, f, neq, h)\n",
    "\n",
    "print(res)"
   ]
  },
  {
   "cell_type": "markdown",
   "id": "28177269",
   "metadata": {},
   "source": [
    "# 4th order Runge-Kutta method\n",
    "The 4th order Runge-Kutta generally works well and the recipe follows <br>\n",
    "$k1=h \\cdot f(t_i,y_i)$ <br>\n",
    "$k2=h \\cdot f(t_i+h/2, y_i+k_1/2)$ <br>\n",
    "$k3=h \\cdot f(t_i+h/2, y_i+k_2/2)$ <br>\n",
    "$k4=h \\cdot f(t_i+h, y_i + k3) $  <br>\n",
    "$y_{i+1} = y_i + k_1/6 + k_2/3 + k_3/3 + k_4/6 + O(h^5)$ <br>\n",
    "\n",
    "For more details, adaptive step size Runge Kutta and relevant resources, please check out the Numerical Geodynamics lecture notes and reference therein. "
   ]
  },
  {
   "cell_type": "code",
   "execution_count": null,
   "id": "932644b0",
   "metadata": {},
   "outputs": [],
   "source": [
    "# Exercise - implement the 4th order Runge-Kutta method.\n",
    "\n",
    "# Let's reuse the function fx defined above.\n",
    "\n",
    "# Define the 4th order Runge-Kutta function.\n",
    "def rungekutta4(t, x, f, neq, h):\n",
    "    # The function will take in x at the current time and update and return the x one step size h further according to function fx.\n",
    "    k1a = []  # create list k1a, which is k1/2 in the recipe.\n",
    "    k2a = []  # create list k2a. which is k2/2 in the recipe.\n",
    "    k3  = []  # create list k3.\n",
    "    k4  = []  # create list k4.\n",
    "    for i in range(neq):   # Loop over all the equations in the system.\n",
    "        k1a.append(f[i](t,     x    )*h/2) \n",
    "    for i in range(neq):    \n",
    "        k2a.append(f[i](t+h/2, x+k1a)*h/2)\n",
    "    for i in range(neq):    \n",
    "        k3.append(??)\n",
    "    for i in range(neq):    \n",
    "        ??\n",
    "    for i in range(neq):\n",
    "        ??\n",
    "        # Please fill out the above missing parts ?? to make this function work!\n",
    "    return x"
   ]
  },
  {
   "cell_type": "code",
   "execution_count": null,
   "id": "840912df",
   "metadata": {},
   "outputs": [],
   "source": [
    "# This exercise will update fx from x=3. at t=2. to t=2.+h=2.01 \n",
    "#  acoording to function form f(x)=x*x based on the 4th order Runge-Kutta method.\n",
    "neq = 1\n",
    "h   = 0.01\n",
    "t   = 2.    \n",
    "x   = [3.]\n",
    "f   = [fx]\n",
    "res = rungekutta4(t, x, f, neq, h)\n",
    "\n",
    "print(res)"
   ]
  },
  {
   "cell_type": "markdown",
   "id": "e2214b31",
   "metadata": {},
   "source": [
    "# Last word\n",
    "Congratulations! <br>\n",
    "\n",
    "Now you should have learned about ordinary differential equations and have implemented three numerical algorithms to solve them!\n",
    "\n",
    "In the repository, there is a python file - ode.py - that contains the implementation of the three methods. ode.py and its functions will be called by other Jupyter Notebook tutorials in this course. <br> \n",
    "\n",
    "They may look slightly different from what you have implemented here. We hope that differnt implementations help you understand the methods better and get familiar with Python. Definitely there is always room to improve.\n",
    "\n",
    "Feel free to make your own customized Euler, Midpoint, and 4th order Runge-Kutta functions and put them in a Python file and use them for your later numerical explorations!"
   ]
  },
  {
   "cell_type": "code",
   "execution_count": null,
   "id": "768b65ef",
   "metadata": {},
   "outputs": [],
   "source": []
  }
 ],
 "metadata": {
  "kernelspec": {
   "display_name": "Python 3 (ipykernel)",
   "language": "python",
   "name": "python3"
  },
  "language_info": {
   "codemirror_mode": {
    "name": "ipython",
    "version": 3
   },
   "file_extension": ".py",
   "mimetype": "text/x-python",
   "name": "python",
   "nbconvert_exporter": "python",
   "pygments_lexer": "ipython3",
   "version": "3.8.5"
  }
 },
 "nbformat": 4,
 "nbformat_minor": 5
}
